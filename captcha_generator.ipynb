{
  "cells": [
    {
      "cell_type": "code",
      "execution_count": 1,
      "metadata": {
        "colab": {
          "base_uri": "https://localhost:8080/"
        },
        "id": "24yicl8q5Gzw",
        "outputId": "25840061-f9dd-4d59-cfd0-4e2540cb5fe6"
      },
      "outputs": [],
      "source": [
        "from google.colab import drive\n",
        "\n",
        "# Mount Google Drive\n",
        "drive.mount('/content/drive')"
      ]
    },
    {
      "cell_type": "code",
      "execution_count": 2,
      "metadata": {
        "colab": {
          "base_uri": "https://localhost:8080/"
        },
        "collapsed": true,
        "id": "-wUsH8Qx6jjP",
        "outputId": "7ef3cce7-8233-48d2-cbfc-fc930f4e4a4c"
      },
      "outputs": [],
      "source": [
        "# Copy the folder to Colab\n",
        "!unzip /content/drive/MyDrive/main.zip"
      ]
    },
    {
      "cell_type": "code",
      "execution_count": 3,
      "metadata": {
        "colab": {
          "base_uri": "https://localhost:8080/"
        },
        "id": "zWjHvwCH4C1H",
        "outputId": "8a8f174c-5137-4d89-f6db-061712eb723d"
      },
      "outputs": [],
      "source": [
        "import torch\n",
        "import torch.nn as nn\n",
        "import matplotlib.pyplot as plt\n",
        "import torch.optim as optim\n",
        "import os\n",
        "from torchvision import datasets, transforms\n",
        "from torch.utils.data import DataLoader\n",
        "\n",
        "device = torch.device(\"cuda\" if torch.cuda.is_available() else \"cpu\")\n",
        "print(device)\n",
        "\n",
        "import os\n",
        "from PIL import Image\n",
        "from torch.utils.data import Dataset, DataLoader\n",
        "from torchvision import transforms\n"
      ]
    },
    {
      "cell_type": "code",
      "execution_count": 46,
      "metadata": {
        "id": "4Bcrl9pC4C1J"
      },
      "outputs": [],
      "source": [
        "class CaptchaDataset(Dataset):\n",
        "    def __init__(self, image_dir, transform=None):\n",
        "        self.image_dir = image_dir\n",
        "        self.transform = transform\n",
        "        self.image_files = [f for f in os.listdir(image_dir) if f.endswith(('.png', '.jpg', '.jpeg'))]\n",
        "\n",
        "    def __len__(self):\n",
        "        return len(self.image_files)\n",
        "\n",
        "    def __getitem__(self, idx):\n",
        "        img_path = os.path.join(self.image_dir, self.image_files[idx])\n",
        "        image = Image.open(img_path).convert(\"RGB\")  # Convert to RGB if needed\n",
        "        if self.transform:\n",
        "            image = self.transform(image)\n",
        "        return image\n",
        "\n",
        "\n",
        "# Define your transformations\n",
        "transform = transforms.Compose([\n",
        "    transforms.Resize((80, 80)),  # Adjust as needed\n",
        "    transforms.ToTensor(),\n",
        "    transforms.Normalize([0.5], [0.5])\n",
        "])\n",
        "\n",
        "# Specify the directory containing captcha images\n",
        "image_dir = \"main\"  # Replace with the path to your 'main' folder\n",
        "\n",
        "# Create the dataset and dataloader\n",
        "captcha_dataset = CaptchaDataset(image_dir=image_dir, transform=transform)\n",
        "dataloader = DataLoader(captcha_dataset, batch_size=128, shuffle=True, num_workers=2)\n"
      ]
    },
    {
      "cell_type": "code",
      "execution_count": 38,
      "metadata": {
        "id": "AUImEy7e4C1J"
      },
      "outputs": [],
      "source": [
        "class Generator(nn.Module):\n",
        "    def __init__(self, noise_dim, img_channels):\n",
        "        super(Generator, self).__init__()\n",
        "        self.model = nn.Sequential(\n",
        "            nn.Linear(noise_dim, 256),\n",
        "            nn.ReLU(True),\n",
        "            nn.BatchNorm1d(256),\n",
        "            nn.Linear(256, 512),\n",
        "            nn.ReLU(True),\n",
        "            nn.BatchNorm1d(512),\n",
        "            nn.Linear(512, 1024),\n",
        "            nn.ReLU(True),\n",
        "            nn.BatchNorm1d(1024),\n",
        "            nn.Linear(1024, img_channels * 80 * 80),\n",
        "            nn.Tanh()\n",
        "        )\n",
        "\n",
        "    def forward(self, x):\n",
        "        x = self.model(x)\n",
        "        return x.view(-1, 3, 80, 80)  # Assuming RGB captcha of size 64x64\n",
        "\n",
        "class Discriminator(nn.Module):\n",
        "    def __init__(self, img_channels):\n",
        "        super(Discriminator, self).__init__()\n",
        "        self.model = nn.Sequential(\n",
        "            nn.Conv2d(img_channels, 80, kernel_size=5, stride=2, padding=2),\n",
        "            nn.LeakyReLU(0.2),\n",
        "            nn.Dropout(0.3),\n",
        "            nn.Conv2d(80, 128, kernel_size=5, stride=2, padding=2),\n",
        "            nn.LeakyReLU(0.2),\n",
        "            nn.Dropout(0.3),\n",
        "            nn.Flatten(),\n",
        "            nn.Linear(128 * 20 * 20, 1),\n",
        "            nn.Sigmoid()\n",
        "        )\n",
        "\n",
        "    def forward(self, x):\n",
        "        return self.model(x)"
      ]
    },
    {
      "cell_type": "code",
      "execution_count": 48,
      "metadata": {
        "id": "1Q0iV5eP4C1J"
      },
      "outputs": [],
      "source": [
        "# Hyperparameters\n",
        "noise_dim = 100\n",
        "img_channels = 3\n",
        "lr = 0.0002\n",
        "batch_size = 128\n",
        "epochs = 20\n",
        "\n",
        "# Initialize models\n",
        "generator = Generator(noise_dim, img_channels).to(device)\n",
        "discriminator = Discriminator(img_channels).to(device)\n",
        "\n",
        "# Loss and optimizers\n",
        "criterion = nn.BCELoss()\n",
        "optimizer_g = optim.Adam(generator.parameters(), lr=lr, betas=(0.5, 0.999))\n",
        "optimizer_d = optim.Adam(discriminator.parameters(), lr=lr, betas=(0.5, 0.999))\n"
      ]
    },
    {
      "cell_type": "code",
      "execution_count": 49,
      "metadata": {
        "colab": {
          "base_uri": "https://localhost:8080/"
        },
        "id": "PpejkKzp4C1K",
        "outputId": "0ebaf27d-23a1-4552-d7ae-0949da6e0f3a"
      },
      "outputs": [],
      "source": [
        "# Training loop\n",
        "for epoch in range(epochs):\n",
        "    for real_images in dataloader:\n",
        "        real_images = real_images.to(device)\n",
        "\n",
        "        # Train Discriminator\n",
        "        optimizer_d.zero_grad()\n",
        "        batch_size = real_images.size(0)\n",
        "        labels_real = torch.ones(batch_size, 1).to(device)\n",
        "        labels_fake = torch.zeros(batch_size, 1).to(device)\n",
        "\n",
        "        # Train with real images\n",
        "        outputs = discriminator(real_images)\n",
        "        loss_real = criterion(outputs, labels_real)\n",
        "\n",
        "        # Train with fake images\n",
        "        noise = torch.randn(batch_size, noise_dim).to(device)\n",
        "        fake_images = generator(noise)\n",
        "        outputs = discriminator(fake_images.detach())\n",
        "        loss_fake = criterion(outputs, labels_fake)\n",
        "\n",
        "        # Update Discriminator\n",
        "        d_loss = loss_real + loss_fake\n",
        "        d_loss.backward()\n",
        "        optimizer_d.step()\n",
        "\n",
        "        # Train Generator\n",
        "        optimizer_g.zero_grad()\n",
        "        outputs = discriminator(fake_images)\n",
        "        g_loss = criterion(outputs, labels_real)  # Generator wants the Discriminator to classify fake as real\n",
        "        g_loss.backward()\n",
        "        optimizer_g.step()\n",
        "    if epoch % 1 == 0:\n",
        "        print(f\"Epoch [{epoch}/{epochs}] | D Loss: {d_loss.item()} | G Loss: {g_loss.item()}\")\n",
        "\n",
        "# Save the model\n",
        "torch.save(generator.state_dict(), 'model/generator.pth')\n",
        "torch.save(discriminator.state_dict(), 'model/discriminator.pth')\n",
        "# Save the optimizer states\n",
        "torch.save(optimizer_g.state_dict(), 'model/optimizer_g.pth')\n",
        "torch.save(optimizer_d.state_dict(), 'model/optimizer_d.pth')\n"
      ]
    },
    {
      "cell_type": "code",
      "execution_count": null,
      "metadata": {},
      "outputs": [],
      "source": [
        "# When you want to use the model later\n",
        "device = torch.device(\"cuda\" if torch.cuda.is_available() else \"cpu\")\n",
        "\n",
        "# Initialize models\n",
        "generator = Generator(noise_dim, img_channels).to(device)\n",
        "discriminator = Discriminator(img_channels).to(device)\n",
        "\n",
        "# Load the saved state\n",
        "generator.load_state_dict(torch.load('model/generator.pth'))\n",
        "discriminator.load_state_dict(torch.load('model/discriminator.pth'))\n",
        "\n",
        "# If you saved the optimizer, load it as well\n",
        "optimizer_g = optim.Adam(generator.parameters(), lr=lr, betas=(0.5, 0.999))\n",
        "optimizer_d = optim.Adam(discriminator.parameters(), lr=lr, betas=(0.5, 0.999))\n",
        "\n",
        "optimizer_g.load_state_dict(torch.load('model/optimizer_g.pth'))\n",
        "optimizer_d.load_state_dict(torch.load('model/optimizer_d.pth'))\n"
      ]
    },
    {
      "cell_type": "code",
      "execution_count": 68,
      "metadata": {
        "colab": {
          "base_uri": "https://localhost:8080/",
          "height": 423
        },
        "id": "0rWkLTr7GZpN",
        "outputId": "17010d6c-190a-4828-bfcc-97f77f4022cb"
      },
      "outputs": [],
      "source": [
        "def generate_captcha(generator, noise_dim):\n",
        "    generator.eval()  # Set generator to evaluation mode\n",
        "    noise = torch.randn(1, noise_dim).to(device)  # Generate noise with batch size of 1\n",
        "    with torch.no_grad():\n",
        "        captcha = generator(noise).cpu().squeeze().detach()\n",
        "    generator.train()  # Switch back to training mode if needed\n",
        "    print(captcha.shape)\n",
        "    return captcha.reshape((3, 80, 80)) # TODO: reshape to proper size\n",
        "\n",
        "# Display the captcha\n",
        "\n",
        "captcha_image = generate_captcha(generator, noise_dim)\n",
        "plt.imshow(captcha_image.permute(1, 2, 0).numpy() * 0.5 + 0.5)  # Rescale for display\n",
        "plt.axis('off')\n",
        "plt.show()\n"
      ]
    }
  ],
  "metadata": {
    "accelerator": "GPU",
    "colab": {
      "gpuType": "T4",
      "provenance": []
    },
    "kernelspec": {
      "display_name": "Python 3",
      "name": "python3"
    },
    "language_info": {
      "codemirror_mode": {
        "name": "ipython",
        "version": 3
      },
      "file_extension": ".py",
      "mimetype": "text/x-python",
      "name": "python",
      "nbconvert_exporter": "python",
      "pygments_lexer": "ipython3",
      "version": "3.6.13"
    }
  },
  "nbformat": 4,
  "nbformat_minor": 0
}
